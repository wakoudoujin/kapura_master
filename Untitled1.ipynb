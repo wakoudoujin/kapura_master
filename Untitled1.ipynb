{
 "cells": [
  {
   "cell_type": "code",
   "execution_count": 13,
   "metadata": {},
   "outputs": [
    {
     "name": "stdout",
     "output_type": "stream",
     "text": [
      "['0b10110100', '0b101001011']\n"
     ]
    }
   ],
   "source": [
    "import random\n",
    "goal = [\n",
    "    0b111000000,\n",
    "    0b000111000,\n",
    "    0b000000111,\n",
    "    0b100010001,\n",
    "    0b010010010,\n",
    "    0b001010100,\n",
    "    0b100100100,\n",
    "    0b001001001\n",
    "       ]\n",
    "def check(player):\n",
    "    for mask in goal:\n",
    "        if player & mask == mask:\n",
    "            return True\n",
    "    return False\n",
    "def play(p1, p2):\n",
    "    if check(p2):\n",
    "        print([bin(p1),bin(p2)])\n",
    "        return\n",
    "    board = p1 | p2\n",
    "    if board == 0b111111111:\n",
    "        print([bin(p1), bin(p2)])\n",
    "        return\n",
    "    \n",
    "    w = [i for i in range(9) if (board & (1 << i)) == 0]\n",
    "    r = random.choice(w)\n",
    "    play(p2,p1 | (1 << r))\n",
    "play(0,0)"
   ]
  },
  {
   "cell_type": "code",
   "execution_count": 17,
   "metadata": {},
   "outputs": [],
   "source": [
    "data  = [200,100,432,5,3421,54,325,43,]\n"
   ]
  },
  {
   "cell_type": "code",
   "execution_count": 23,
   "metadata": {},
   "outputs": [
    {
     "name": "stdout",
     "output_type": "stream",
     "text": [
      "3 5\n"
     ]
    }
   ],
   "source": [
    "min = 0\n",
    "atai = 0\n",
    "for i in range(1,len(data)):\n",
    "    if data[min] > data[i]:\n",
    "        min = i\n",
    "        atai =data[min]\n",
    "print(f\"{min} {atai}\")"
   ]
  },
  {
   "cell_type": "code",
   "execution_count": null,
   "metadata": {},
   "outputs": [],
   "source": []
  }
 ],
 "metadata": {
  "kernelspec": {
   "display_name": "Python 3",
   "language": "python",
   "name": "python3"
  },
  "language_info": {
   "codemirror_mode": {
    "name": "ipython",
    "version": 3
   },
   "file_extension": ".py",
   "mimetype": "text/x-python",
   "name": "python",
   "nbconvert_exporter": "python",
   "pygments_lexer": "ipython3",
   "version": "3.8.3"
  }
 },
 "nbformat": 4,
 "nbformat_minor": 4
}
