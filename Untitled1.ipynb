{
 "cells": [
  {
   "cell_type": "code",
   "execution_count": 18,
   "metadata": {},
   "outputs": [
    {
     "name": "stdout",
     "output_type": "stream",
     "text": [
      "[1, 3, 0, 2]\n",
      "[2, 0, 3, 1]\n"
     ]
    }
   ],
   "source": [
    "n = 4\n",
    "def check(x, col):\n",
    "    for i, row in enumerate(reversed(col)):\n",
    "        if (x + i + 1 == row) or (x - i - 1 == row):\n",
    "            return False\n",
    "    return True\n",
    "def search(col):\n",
    "    if len(col) == n:\n",
    "        print(col)\n",
    "        return\n",
    "    \n",
    "    for i in range(n):\n",
    "        if i not in col:\n",
    "            if check(i, col):\n",
    "                col.append(i)\n",
    "                search(col)\n",
    "                col.pop()\n",
    "\n",
    "\n",
    "search([])"
   ]
  },
  {
   "cell_type": "code",
   "execution_count": 35,
   "metadata": {},
   "outputs": [
    {
     "name": "stdout",
     "output_type": "stream",
     "text": [
      "[4, 45, 345, 5, 453, 343, 2, 2, 1, 1]\n"
     ]
    }
   ],
   "source": [
    "data = [1,1,2,2,343,453,5,345,45,4]\n",
    "a = []\n",
    "for i in reversed(data):\n",
    "    a.append(i)\n",
    "print(a)"
   ]
  },
  {
   "cell_type": "code",
   "execution_count": null,
   "metadata": {},
   "outputs": [],
   "source": []
  }
 ],
 "metadata": {
  "kernelspec": {
   "display_name": "Python 3",
   "language": "python",
   "name": "python3"
  },
  "language_info": {
   "codemirror_mode": {
    "name": "ipython",
    "version": 3
   },
   "file_extension": ".py",
   "mimetype": "text/x-python",
   "name": "python",
   "nbconvert_exporter": "python",
   "pygments_lexer": "ipython3",
   "version": "3.8.3"
  }
 },
 "nbformat": 4,
 "nbformat_minor": 4
}
